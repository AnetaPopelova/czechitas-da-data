{
 "cells": [
  {
   "cell_type": "markdown",
   "metadata": {},
   "source": [
    "# Web scraping"
   ]
  },
  {
   "cell_type": "markdown",
   "metadata": {},
   "source": [
    "Web scraping je technika pro automatizované získávání dat z webových stránek. Umožňuje transformovat nestrukturované nebo polostrukturované data z webu do strukturovaného formátu, který lze snadno analyzovat a využít pro různé účely.\n",
    "\n",
    "Použití web scrapingu:\n",
    "- **Analýza dat:** Shromažďování dat pro výzkum trhu, sledování trendů nebo vědecké studie.\n",
    "- **Agregace informací:** Slučování dat z různých zdrojů na jednom místě, například ceny produktů nebo zprávy.\n",
    "- **Monitorování konkurence:** Sledování aktivit konkurentů, jako jsou nové produkty nebo změny cen.\n",
    "- **Automatizace úloh:** Automatické stahování a aktualizace informací bez nutnosti ručního zásahu.\n",
    "\n",
    "Knihovny a frameworky:\n",
    "- *Beautiful Soup:* Python knihovna pro parsování HTML a XML dokumentů.\n",
    "- *Scrapy:* Výkonný a škálovatelný framework pro web scraping v Pythonu.\n",
    "- *Selenium:* Nástroj pro automatizaci webových prohlížečů, užitečný pro scraping dynamických stránek.\n",
    "- *API přístupy:* Některé webové stránky poskytují API, které umožňuje legální a efektivní přístup k datům.\n",
    "\n",
    "Při provádění web scrapingu je klíčové dodržovat právní předpisy a etické zásady:\n",
    "- Podmínky užití: Vždy si přečtěte a respektujte podmínky užití dané webové stránky. Některé stránky zakazují nebo omezují automatizované stahování dat.\n",
    "- Autorská práva: Ujistěte se, že nezneužíváte chráněný obsah a dodržujete zákony o duševním vlastnictví.\n",
    "- Ochrana osobních údajů: Získávání osobních dat bez souhlasu může být nezákonné a neetické.\n",
    "- Zátěž serveru: Nezatěžujte webové servery nadměrnými požadavky. Používejte časové prodlevy a respektujte limity."
   ]
  },
  {
   "cell_type": "markdown",
   "metadata": {},
   "source": [
    "## HTML\n",
    "\n",
    "Webové stránky jsou textové soubory psané ve speciálním jazyce zvaném `HTML` (_HyperText Markup Language_). \n",
    "\n",
    "`HTML` není jazyk programovací, nýbrž takzvaně značkovací. \n",
    "\n",
    "Pomocí `HTML` tvůrci webů definují samotný obsah stránek, tedy texty, obrázky, odkazy apod. \n",
    "\n",
    "Samotný vzhled stránky (barvičky, styl písma, rozmístění prvků na stránce apod.) se vytváří v jazyce zvaném `CSS`."
   ]
  },
  {
   "cell_type": "markdown",
   "metadata": {},
   "source": [
    "### HTML značky (tagy)\n",
    "\n",
    "HTML elements reference:  https://developer.mozilla.org/en-US/docs/Web/HTML/Element\n",
    "\n",
    "| Tag     | Popis | Použití |\n",
    "|---------|------------------------------------------------------------------------|-------------------------------------------------------------------------------|\n",
    "| `<html>`  | Kořenový element HTML dokumentu.                                       | Obaluje celý obsah HTML stránky.                                              |\n",
    "| `<head>`  | Obsahuje metainformace o dokumentu.                                    | Umisťuje se uvnitř `<html>`; obsahuje `<title>`, `<meta>`, odkazy na CSS a skripty. |\n",
    "| `<body>`  | Obsahuje viditelný obsah webové stránky.                               | Umisťuje se uvnitř `<html>`; obsahuje text, obrázky, odkazy atd.                |\n",
    "| `<title>` | Definuje titulek stránky zobrazený v záhlaví prohlížeče nebo na kartě. | Umisťuje se uvnitř `<head>`.                                                    |\n",
    "| `<h1>`    | Nadpis úrovně 1 (nejvyšší úroveň nadpisu).                             | Pro hlavní nadpis stránky nebo sekce; `<h2>` až `<h6>` pro podnadpisy.            |\n",
    "| `<p>`     | Definuje odstavec textu.                                               | Pro běžný textový obsah.                                                      |\n",
    "| `<a>`     | Vytváří hypertextový odkaz na jinou stránku nebo část stránky.         | Atribut href určuje cílovou URL; může obsahovat text nebo jiné elementy.      |\n",
    "| `<img>`   | Vkládá obrázek do stránky.                                             | Atributy src (cesta k obrázku) a alt (alternativní text).                     |\n",
    "| `<ul>`    | Definuje neuspořádaný seznam (s odrážkami).                            | Používá se společně s `<li>` pro položky seznamu.                               |\n",
    "| `<li>`    | Definuje položku seznamu v `<ul>` nebo `<ol>`.                             | Každá položka seznamu je obalena v `<li>`.                                                                              |\n",
    "| `class` | Atribut pro přiřazení jedné nebo více tříd elementu pro účely stylování a skriptování. | Používá se u většiny HTML tagů pro aplikaci CSS stylů nebo manipulaci v JavaScriptu. Např.: `<div class=\"container\">` |\n",
    "| `href`  | Atribut určující cílovou URL pro odkaz nebo odkaz na zdroj.                            | Používá se hlavně s `<a>` pro odkazy. Např.: `<a href=\"https://www.priklad.cz\">Odkaz</a>`                               |\n"
   ]
  },
  {
   "cell_type": "markdown",
   "metadata": {},
   "source": [
    "<html>\n",
    "<head>\n",
    "  <meta charset=\"UTF-8\">\n",
    "  <title>Ukázka</title>\n",
    "</head>\n",
    "<body>\n",
    "  <h1>Tohle je příklad nadpisu první úrovně</h1>\n",
    "  <p>\n",
    "    Text nějakého odstavce, který obsahuje\n",
    "    <em>zvýrazněný text</em> a také <strong>\n",
    "    důležitý text.</strong>\n",
    "  </p>\n",
    "\n",
    "  <h2>Nadpis druhé úrovně</h2>\n",
    "  <div class=\"sekce1\">\n",
    "    <p>\n",
    "      Druhý odstavec je v takzvaném divu, což je\n",
    "      značka, která nemá sama o sobě žádný význam.\n",
    "      Také zde máme\n",
    "      <a href=\"http;://www.czechitas.cz\"> odkaz na\n",
    "      stránky Czechitas</a>.\n",
    "    </p>\n",
    "\n",
    "   <ol type=a>\n",
    "      <li>První položka seznamu</li>\n",
    "      <li>Druhá položka seznamu</li>\n",
    "      <li>Třetí položka seznamu</li>\n",
    "    </ol>\n",
    "  </div>\n",
    "</body>\n",
    "</html>"
   ]
  },
  {
   "cell_type": "markdown",
   "metadata": {},
   "source": [
    "```html\n",
    "<html>\n",
    "<head>\n",
    "  <meta charset=\"UTF-8\">\n",
    "  <title>Ukázka</title>\n",
    "</head>\n",
    "<body>\n",
    "  <h1>Nadpis první úrovně</h1>\n",
    "  <p>\n",
    "    Text nějakého odstavce, který obsahuje\n",
    "    <em>zvýrazněný text</em> a také <strong>\n",
    "    důležitý text.</strong>\n",
    "  </p>\n",
    "\n",
    "  <h2>Nadpis druhé úrovně</h2>\n",
    "  <div class=\"sekce1\">\n",
    "    <p>\n",
    "      Druhý odstavec je v takzvaném divu, což je\n",
    "      značka, která nemá sama o sobě žádný význam.\n",
    "      Také zde máme\n",
    "      <a href=\"http;://www.czechitas.cz\"> odkaz na\n",
    "      stránky Czechitas</a>.\n",
    "    </p>\n",
    "\n",
    "    <ol type=\"a\">\n",
    "      <li>První položka seznamu</li>\n",
    "      <li>Druhá položka seznamu</li>\n",
    "      <li>Třetí položka seznamu</li>\n",
    "    </ol>\n",
    "  </div>\n",
    "</body>\n",
    "</html>\n",
    "```\n",
    "\n",
    "---"
   ]
  },
  {
   "cell_type": "markdown",
   "metadata": {},
   "source": [
    "Na adrese https://apps.kodim.cz/python-data/scrape najdete naši malou ukázkovou stránku z úvodu. \n",
    "\n",
    "\n",
    "Na adrese https://apps.kodim.cz/python-data/dhmo najdete také finální verzi stránky šířící poplach ohledně DHMO."
   ]
  },
  {
   "cell_type": "markdown",
   "metadata": {},
   "source": [
    "## Web scraping v Pythonu s knihovnou Beautiful Soup"
   ]
  },
  {
   "cell_type": "markdown",
   "metadata": {},
   "source": [
    "*“Beautiful Soup, so rich and green,  \n",
    "Waiting in a hot tureen!”*\n",
    "\n",
    "*-- “Alenka v říši divů” od Lewise Carrolla.*"
   ]
  },
  {
   "cell_type": "code",
   "execution_count": 105,
   "metadata": {},
   "outputs": [],
   "source": [
    "# !pip3 install beautifulsoup4"
   ]
  },
  {
   "cell_type": "code",
   "execution_count": 106,
   "metadata": {},
   "outputs": [],
   "source": [
    "from bs4 import BeautifulSoup\n",
    "import requests"
   ]
  },
  {
   "cell_type": "markdown",
   "metadata": {},
   "source": [
    "### Načtení HTML souboru"
   ]
  },
  {
   "cell_type": "code",
   "execution_count": 107,
   "metadata": {},
   "outputs": [],
   "source": [
    "# Načtení HTML souboru z lokálního úložiště\n",
    "with open(\"assets/dhmo/index-fixed.html\", encoding=\"utf-8\") as file:\n",
    "    html_content = file.read()\n",
    "\n",
    "# Vytvoření BeautifulSoup objektu pro lokální HTML\n",
    "soup = BeautifulSoup(html_content, 'html.parser')"
   ]
  },
  {
   "cell_type": "code",
   "execution_count": 108,
   "metadata": {},
   "outputs": [],
   "source": [
    "# Načtení HTML ze vzdáleného zdroje\n",
    "response = requests.get('https://apps.kodim.cz/python-data/dhmo/')\n",
    "remote_html_content = response.text\n",
    "\n",
    "# Vytvoření BeautifulSoup objektu pro vzdálené HTML\n",
    "soup = BeautifulSoup(remote_html_content, 'html.parser')"
   ]
  },
  {
   "cell_type": "code",
   "execution_count": null,
   "metadata": {},
   "outputs": [],
   "source": [
    "# Tisk celého HTML, pokud je to potřeba\n",
    "print(soup.prettify())"
   ]
  },
  {
   "cell_type": "markdown",
   "metadata": {},
   "source": [
    "## Vyhledávání v HTML\n",
    "\n",
    "HTML značky můžeme vyhledávat podle jména. \n",
    "\n",
    "- *Vyhledávací metody:* `find()`, `find_all()`, `select()`, `select_one()` slouží k vyhledávání elementů na základě různých kritérií.\n",
    "- *Navigační metody:* Metody jako `parent`, `children`, `next_sibling` atd. jsou užitečné pro pohyb v DOM stromu a získání kontextu.\n",
    "- *Manipulační metody:* `decompose()`, `replace_with()` umožňují upravovat strukturu dokumentu přímo v paměti.\n",
    "- *Textové metody:* `get_text()`, `find(text=True)` slouží k extrakci a vyhledávání textového obsahu.\t\n",
    "\n",
    "| Metoda              | Popis                                                  | Použití                                  | Výhody                                                                                  |\n",
    "|---------------------|--------------------------------------------------------|------------------------------------------|-----------------------------------------------------------------------------------------|\n",
    "| `find()`              | Najde první element odpovídající zadaným kritériím.    | `soup.find('div', class_='content')`       | Rychlé získání jednoho elementu; jednoduchá syntaxe.                                    |\n",
    "| `find_all()`          | Najde všechny elementy odpovídající kritériím.         | `soup.find_all('a', href=True)`          | Umožňuje získat seznam všech odpovídajících elementů; možnost limitovat počet výsledků. |\n",
    "| `select()`            | Najde všechny elementy pomocí CSS selektorů.           | `soup.select('ul.menu > li.active')`       | Umožňuje komplexní dotazy; využití známých CSS selektorů.                               |\n",
    "| `select_one()`        | Najde první element pomocí CSS selektoru.              | `soup.select_one('div.content > ul > li')` | Kombinuje jednoduchost `select()` s rychlostí `find()`.                                     |\n",
    "| `get_text()`          | Extrahuje textový obsah z elementu.                    | `element.get_text(strip=True)`             | Jednoduché získání čistého textu; možnost odstranění bílých znaků.                      |\n",
    "| `find_parent()`       | Najde nejbližší rodičovský element podle kritérií.     | `element.find_parent('div')`               | Umožňuje navigaci směrem nahoru v DOM stromu; snadné vyhledání rodičů.                  |\n",
    "| `find_next_sibling()` | Najde následující sourozenecký element podle kritérií. | `element.find_next_sibling('p')`           | Navigace mezi sourozeneckými elementy; užitečné pro lineární procházení.                |\n",
    "| `contents`            | Seznam přímých potomků elementu.                       | `element.contents`                         | Přímý přístup k dětem; umožňuje indexování.                                             |\n",
    "\n",
    "\n",
    "### Tipy a doporučení\n",
    "\n",
    "- Výkon: Pokud pracujete s velkými dokumenty a výkon je kritický, preferujte `find_all()`.\n",
    "- Čitelnost: Pokud váš tým nebo vy preferujete CSS selektory pro jejich čitelnost a flexibilitu, použijte `select()`.\n",
    "- Kombinace metod: Není neobvyklé kombinovat obě metody v jednom projektu podle potřeby.\n",
    "- Testování: Vždy testujte své selektory na vzorku dat, abyste se ujistili, že vracejí očekávané výsledky.\n"
   ]
  },
  {
   "cell_type": "markdown",
   "metadata": {},
   "source": [
    "### `find_all()`"
   ]
  },
  {
   "cell_type": "code",
   "execution_count": null,
   "metadata": {},
   "outputs": [],
   "source": [
    "# Vyhledání všech paragrafů v HTML\n",
    "paragraphs = soup.find_all('p')\n",
    "for paragraph in paragraphs:\n",
    "    print(paragraph)"
   ]
  },
  {
   "cell_type": "markdown",
   "metadata": {},
   "source": [
    "## Atributy\n",
    "\n",
    "Můžeme přistupovat k atributům nalezených značek. \n",
    "\n",
    "- Obsahové atributy: name, attrs, string, text, strings, stripped_strings poskytují informace o tagu a jeho obsahu.\n",
    "- Navigační atributy: parent, parents, children, contents, descendants, next_sibling, previous_sibling umožňují pohyb v parse stromu.\n",
    "\n"
   ]
  },
  {
   "cell_type": "code",
   "execution_count": null,
   "metadata": {},
   "outputs": [],
   "source": [
    "for paragraph in paragraphs:\n",
    "    print(paragraph.text)"
   ]
  },
  {
   "cell_type": "markdown",
   "metadata": {},
   "source": [
    "Můžete k atributům HTML tagů jako `href`, `alt`, `scr`..."
   ]
  },
  {
   "cell_type": "code",
   "execution_count": null,
   "metadata": {},
   "outputs": [],
   "source": [
    "links = soup.find_all('a')\n",
    "\n",
    "for link in links:\n",
    "    print(link)\n",
    "    print(link.text)\n",
    "    print(link.get('href'))"
   ]
  },
  {
   "cell_type": "code",
   "execution_count": null,
   "metadata": {},
   "outputs": [],
   "source": [
    "images = soup.find_all('img')\n",
    "for image in images:\n",
    "    print(image.get('alt'))\n",
    "    print(image.get('src'))"
   ]
  },
  {
   "cell_type": "markdown",
   "metadata": {},
   "source": [
    "### Složitější pravidla vyhledávání"
   ]
  },
  {
   "cell_type": "markdown",
   "metadata": {},
   "source": [
    "Můžeme vyhledávat podle více značek najednou."
   ]
  },
  {
   "cell_type": "code",
   "execution_count": null,
   "metadata": {},
   "outputs": [],
   "source": [
    "# Vyhledání všech nadpisů h1 a h2 v HTML\n",
    "headings = soup.find_all(['h1', 'h2'])\n",
    "for heading in headings:\n",
    "    print(heading.text)"
   ]
  },
  {
   "cell_type": "markdown",
   "metadata": {},
   "source": [
    "### `select()` (pro CSS selektory)"
   ]
  },
  {
   "cell_type": "markdown",
   "metadata": {},
   "source": [
    "Můžeme vyhledávat podle atributů. "
   ]
  },
  {
   "cell_type": "code",
   "execution_count": null,
   "metadata": {},
   "outputs": [],
   "source": [
    "soup.select('ol li a')\n",
    "# soup.find('ol').find_all('li')"
   ]
  },
  {
   "cell_type": "markdown",
   "metadata": {},
   "source": [
    "Můžeme vyhledávat podle zanoření. \n",
    "\n",
    "Mezera ve vyhledávacím řetězci znamená libovolně hluboké zanoření. "
   ]
  },
  {
   "cell_type": "code",
   "execution_count": null,
   "metadata": {},
   "outputs": [],
   "source": [
    "# Použití CSS selektoru pro nalezení odstavců, které jsou přímými potomky divu s třídou 'sekce1'\n",
    "direct_child_paragraphs = soup.select(\".intro > p\")\n",
    "\n",
    "# Výpis textu nalezených odstavců\n",
    "for paragraph in direct_child_paragraphs:\n",
    "    print(paragraph.text)"
   ]
  },
  {
   "cell_type": "code",
   "execution_count": null,
   "metadata": {},
   "outputs": [],
   "source": [
    "# Můžeme vyhledávání podle třídy (atribut `class`). Třídy se vyhledávají tak, že jejich název začneme tečkou.\n",
    "\n",
    "# Vyhledání všech paragrafů v sekci s třídou \"sekce1\"\n",
    "for section_paragraph in soup.select(\".intro p\"):\n",
    "    print(section_paragraph.text)\n",
    "\n",
    "# for section_paragraph in soup.find_all('p'):\n",
    "#     if section_paragraph.find_parent(class_='intro'):\n",
    "#         print(section_paragraph.text)"
   ]
  },
  {
   "cell_type": "markdown",
   "metadata": {},
   "source": [
    "## Web scraping vs JavaScript"
   ]
  },
  {
   "cell_type": "markdown",
   "metadata": {},
   "source": [
    "Selenium je nástroj pro automatizaci webových prohlížečů, který umožňuje programově ovládat prohlížeč pro účely testování nebo webového scrapingu. \n",
    "\n",
    "Umožňuje simulovat uživatelskou interakci s webovými stránkami, jako je klikání na tlačítka, vyplňování formulářů nebo navigace mezi stránkami. To je obzvláště užitečné při práci s dynamickými webovými aplikacemi, které využívají JavaScript k načítání obsahu, což by bylo obtížné nebo nemožné s tradičními nástroji jako je Beautiful Soup. \n",
    "\n",
    "Selenium podporuje různé prohlížeče, včetně Chrome, Firefox, Safari a Edge, a poskytuje rozhraní pro různé programovací jazyky, včetně Pythonu, Javy a C#. \n",
    "\n",
    "Použitím Selenium můžete automatizovat komplexní úlohy v prohlížeči a získávat data z webových stránek, které vyžadují interakci nebo čekání na načtení obsahu.\n",
    "\n"
   ]
  },
  {
   "cell_type": "code",
   "execution_count": null,
   "metadata": {},
   "outputs": [],
   "source": [
    "import time\n",
    "\n",
    "# %pip3 install selenium\n",
    "from selenium import webdriver\n",
    "from selenium.webdriver.chrome.service import Service\n",
    "from selenium.webdriver.chrome.options import Options\n",
    "\n",
    "# %pip install chromedriver-autoinstaller\n",
    "import chromedriver_autoinstaller\n",
    "chromedriver_autoinstaller.install()"
   ]
  },
  {
   "cell_type": "code",
   "execution_count": 121,
   "metadata": {},
   "outputs": [],
   "source": [
    "url = 'https://react-shopping-cart-67954.firebaseapp.com/'"
   ]
  },
  {
   "cell_type": "code",
   "execution_count": null,
   "metadata": {},
   "outputs": [],
   "source": [
    "# Cesta k WebDriver\n",
    "# Upravte cestu k vaší instalaci chromedriver\n",
    "chrome_driver_path = '/Library/Frameworks/Python.framework/Versions/3.12/lib/python3.12/site-packages/chromedriver_autoinstaller/130/chromedriver'\n",
    "\n",
    "# Nastavení webdriveru\n",
    "service = Service(executable_path=chrome_driver_path)\n",
    "chrome_options = Options()\n",
    "# Prohlížeč běží na pozadí bez otevření okna na obrazovce\n",
    "chrome_options.add_argument(\"--headless\")\n",
    "\n",
    "# Inicializace WebDriveru\n",
    "try:\n",
    "    driver = webdriver.Chrome(service=service, options=chrome_options)\n",
    "except Exception as e:\n",
    "    print(\"Nastala chyba při inicializaci WebDriveru:\", str(e))\n",
    "    exit(1)\n",
    "\n",
    "# Použití WebDriveru\n",
    "try:\n",
    "    driver.get(url)\n",
    "    time.sleep(5)  # Počkáme, aby JavaScript načetl obsah\n",
    "\n",
    "    # Vaše další kódy\n",
    "    html_content = driver.page_source\n",
    "    print(driver.page_source)  # Výpis zdrojového kódu stránky\n",
    "\n",
    "finally:\n",
    "    driver.quit()  # Ukončení WebDriveru"
   ]
  },
  {
   "cell_type": "code",
   "execution_count": null,
   "metadata": {},
   "outputs": [],
   "source": [
    "soup = BeautifulSoup(html_content, 'html.parser')\n",
    "\n",
    "# print(soup.prettify())\n",
    "paragraphs = soup.find_all('p')\n",
    "for paragraph in paragraphs:\n",
    "    print(paragraph.text)"
   ]
  }
 ],
 "metadata": {
  "kernelspec": {
   "display_name": "Python 3",
   "language": "python",
   "name": "python3"
  },
  "language_info": {
   "codemirror_mode": {
    "name": "ipython",
    "version": 3
   },
   "file_extension": ".py",
   "mimetype": "text/x-python",
   "name": "python",
   "nbconvert_exporter": "python",
   "pygments_lexer": "ipython3",
   "version": "3.12.3"
  },
  "orig_nbformat": 4
 },
 "nbformat": 4,
 "nbformat_minor": 2
}
