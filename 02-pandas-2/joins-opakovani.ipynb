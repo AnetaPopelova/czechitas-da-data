{
 "cells": [
  {
   "cell_type": "code",
   "execution_count": 24,
   "metadata": {},
   "outputs": [],
   "source": [
    "import pandas as pd"
   ]
  },
  {
   "cell_type": "markdown",
   "metadata": {},
   "source": [
    "Vytvoření DataFrames"
   ]
  },
  {
   "cell_type": "code",
   "execution_count": 25,
   "metadata": {},
   "outputs": [],
   "source": [
    "# Vytvoření DataFrame 'mazlicci'\n",
    "mazlicci = pd.DataFrame({\n",
    "    'mazlicek_id': [1, 2, 3, 4],\n",
    "    'jmeno': ['Rex', 'Mia', 'Oreo', 'Bella'],\n",
    "    'typ': ['Pes', 'Kočka', 'Pes', 'Kočka'],\n",
    "    'vek': [5, 3, 2, 4]\n",
    "})\n",
    "\n",
    "# Vytvoření DataFrame 'hracky'\n",
    "hracky = pd.DataFrame({\n",
    "    'hracka_id': ['H1', 'H2', 'H3', 'H4'],\n",
    "    'nazev_hracky': ['Kost', 'Pískací myš', 'Lanové hračky', 'Míček'],\n",
    "    'mazlicek_id': [1, 2, 1, 4],\n",
    "    'cena': [200, 150, 300, 100]\n",
    "})\n",
    "\n",
    "# Vytvoření DataFrame 'prodeje'\n",
    "prodeje = pd.DataFrame({\n",
    "    'prodej_id': [101, 102, 103, 104],\n",
    "    'hracka_id': ['H1', 'H2', 'H3', 'H1'],\n",
    "    'datum': ['2023-01-15', '2023-01-17', '2023-01-18', '2023-01-19'],\n",
    "    'mnozstvi': [2, 1, 1, 3]\n",
    "})"
   ]
  },
  {
   "cell_type": "markdown",
   "metadata": {},
   "source": [
    "Spojíme tabulky mazlicci a hracky, abychom zjistili, které hračky mají které mazlíčky."
   ]
  },
  {
   "cell_type": "code",
   "execution_count": null,
   "metadata": {},
   "outputs": [],
   "source": [
    "# Inner Join\n",
    "merged_df = pd.merge(mazlicci, hracky, on='mazlicek_id', how='inner')\n",
    "merged_df"
   ]
  },
  {
   "cell_type": "markdown",
   "metadata": {},
   "source": [
    "Spojíme tabulky mazlicci a hracky, abychom viděli všechny mazlíčky a jejich hračky, i když nějaký mazlíček hračku nemá."
   ]
  },
  {
   "cell_type": "code",
   "execution_count": null,
   "metadata": {},
   "outputs": [],
   "source": [
    "# Left Join\n",
    "left_joined_df = pd.merge(mazlicci, hracky, on='mazlicek_id', how='left')\n",
    "left_joined_df"
   ]
  },
  {
   "cell_type": "markdown",
   "metadata": {},
   "source": [
    "Spočítáme celkovou cenu hraček podle typu mazlíčka."
   ]
  },
  {
   "cell_type": "code",
   "execution_count": null,
   "metadata": {},
   "outputs": [],
   "source": [
    "grouped_df = merged_df.groupby('typ')['cena'].sum().reset_index()\n",
    "grouped_df"
   ]
  },
  {
   "cell_type": "markdown",
   "metadata": {},
   "source": [
    "Spočítáme průměrnou a celkovou cenu hraček pro každý typ mazlíčka."
   ]
  },
  {
   "cell_type": "code",
   "execution_count": null,
   "metadata": {},
   "outputs": [],
   "source": [
    "agg_df = merged_df.groupby('typ')['cena'].agg(['mean', 'sum']).reset_index()\n",
    "agg_df"
   ]
  },
  {
   "cell_type": "markdown",
   "metadata": {},
   "source": [
    "Spočítáme celkové množství prodaných hraček a celkové tržby (cena * množství) podle mazlíčků."
   ]
  },
  {
   "cell_type": "code",
   "execution_count": null,
   "metadata": {},
   "outputs": [],
   "source": [
    "prodeje"
   ]
  },
  {
   "cell_type": "code",
   "execution_count": null,
   "metadata": {},
   "outputs": [],
   "source": [
    "# Spojení tabulek hracky a prodeje\n",
    "hracky_prodeje = pd.merge(hracky, prodeje, on='hracka_id', how='inner')\n",
    "\n",
    "# Spojení s tabulkou mazlicci\n",
    "mazlicci_hracky_prodeje = pd.merge(\n",
    "    mazlicci, hracky_prodeje, on='mazlicek_id', how='inner')\n",
    "\n",
    "# Výpočet celkové tržby\n",
    "mazlicci_hracky_prodeje['trzby'] = mazlicci_hracky_prodeje['cena'] *  mazlicci_hracky_prodeje['mnozstvi']\n",
    "\n",
    "# Agregace podle jména mazlíčka\n",
    "agg_df = mazlicci_hracky_prodeje.groupby(\n",
    "    'jmeno')[['mnozstvi', 'trzby']].sum().reset_index()\n",
    "agg_df"
   ]
  }
 ],
 "metadata": {
  "kernelspec": {
   "display_name": "base",
   "language": "python",
   "name": "python3"
  },
  "language_info": {
   "codemirror_mode": {
    "name": "ipython",
    "version": 3
   },
   "file_extension": ".py",
   "mimetype": "text/x-python",
   "name": "python",
   "nbconvert_exporter": "python",
   "pygments_lexer": "ipython3",
   "version": "3.12.3"
  }
 },
 "nbformat": 4,
 "nbformat_minor": 2
}
