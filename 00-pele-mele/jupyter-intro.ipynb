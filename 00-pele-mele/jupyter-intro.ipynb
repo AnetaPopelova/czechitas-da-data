{
 "cells": [
  {
   "cell_type": "markdown",
   "metadata": {},
   "source": [
    "# Introduction to Jupyter Notebooks 📓\n",
    "\n",
    "## What is a Jupyter Notebook?\n",
    "\n",
    "A Jupyter Notebook is an interactive document that combines:\n",
    "- Live code execution\n",
    "- Rich text (Markdown)\n",
    "- Mathematics (LaTeX)\n",
    "- Visualizations\n",
    "- Media (images, videos)\n",
    "\n",
    "It's widely used in:\n",
    "- Data analysis and science\n",
    "- Machine learning\n",
    "- Education\n",
    "- Research documentation\n",
    "- Interactive reporting"
   ]
  },
  {
   "cell_type": "markdown",
   "metadata": {},
   "source": [
    "## Using Jupyter in VS Code 🔧\n",
    "\n",
    "### Setup\n",
    "\n",
    "1. Install required software:\n",
    "```bash\n",
    "pip install jupyter notebook # pandas numpy matplotlib\n",
    "```\n",
    "\n",
    "2. In VS Code:\n",
    "   - Install \"Jupyter\" extension\n",
    "   - Install \"Python\" extension\n",
    "\n",
    "### Essential VS Code Features\n",
    "\n",
    "- Variable explorer (top right)\n",
    "- Cell toolbar (top of each cell)\n",
    "- Kernel status (bottom right)\n",
    "- Interactive plots\n",
    "\n",
    "### Important Keyboard Shortcuts\n",
    "\n",
    "| Action | Shortcut |\n",
    "|--------|----------|\n",
    "| Run cell | `Shift + Enter` |\n",
    "| Add cell below | `B` |\n",
    "| Convert to markdown | `M` |\n",
    "| Convert to code | `Y` |\n",
    "| Delete cell | `DD` |\n",
    "| Save notebook | `Ctrl/Cmd + S` |"
   ]
  },
  {
   "cell_type": "markdown",
   "metadata": {},
   "source": [
    "## Example 1: Basic Python Code 🐍\n",
    "\n",
    "Let's start with some simple Python code to understand how code cells work:"
   ]
  },
  {
   "cell_type": "code",
   "execution_count": null,
   "metadata": {},
   "outputs": [],
   "source": [
    "# Basic calculations\n",
    "print(\"Hello, Jupyter!\")\n",
    "\n",
    "# List operations\n",
    "numbers = [1, 2, 3, 4, 5]\n",
    "squared = [n**2 for n in numbers]\n",
    "\n",
    "print(f\"Original numbers: {numbers}\")\n",
    "print(f\"Squared numbers: {squared}\")"
   ]
  },
  {
   "cell_type": "markdown",
   "metadata": {},
   "source": [
    "## Example 2: Working with Data 📊\n",
    "\n",
    "Let's see how to work with Pandas for data analysis:"
   ]
  },
  {
   "cell_type": "code",
   "execution_count": null,
   "metadata": {},
   "outputs": [],
   "source": [
    "import pandas as pd\n",
    "\n",
    "# Create sample data\n",
    "data = {\n",
    "    'Name': ['Anna', 'Petr', 'Jana', 'Martin', 'Eva'],\n",
    "    'Age': [25, 30, 28, 35, 22],\n",
    "    'City': ['Praha', 'Brno', 'Ostrava', 'Praha', 'Brno'],\n",
    "    'Salary': [35000, 42000, 38000, 45000, 33000]\n",
    "}\n",
    "\n",
    "# Create DataFrame\n",
    "df = pd.DataFrame(data)\n",
    "\n",
    "# Display the data\n",
    "print(\"Complete Dataset:\")\n",
    "display(df)\n",
    "\n",
    "# Basic statistics\n",
    "print(\"\\nBasic Statistics:\")\n",
    "display(df.describe())"
   ]
  },
  {
   "cell_type": "markdown",
   "metadata": {},
   "source": [
    "## Example 3: Data Visualization 📈\n",
    "\n",
    "Now let's create some visualizations using matplotlib:"
   ]
  },
  {
   "cell_type": "code",
   "execution_count": null,
   "metadata": {},
   "outputs": [],
   "source": [
    "import matplotlib.pyplot as plt\n",
    "\n",
    "# Set figure size\n",
    "plt.figure(figsize=(12, 5))\n",
    "\n",
    "# Create two subplots\n",
    "plt.subplot(1, 2, 1)\n",
    "plt.bar(df['Name'], df['Salary'], color='skyblue')\n",
    "plt.title('Salary Distribution')\n",
    "plt.xticks(rotation=45)\n",
    "plt.ylabel('Salary (CZK)')\n",
    "\n",
    "plt.subplot(1, 2, 2)\n",
    "df['City'].value_counts().plot(kind='pie', autopct='%1.1f%%')\n",
    "plt.title('City Distribution')\n",
    "\n",
    "plt.tight_layout()\n",
    "plt.show()"
   ]
  },
  {
   "cell_type": "markdown",
   "metadata": {},
   "source": [
    "## Markdown Examples ✍️\n",
    "\n",
    "Markdown cells can contain:\n",
    "\n",
    "### 1. Headers\n",
    "# H1 Header\n",
    "## H2 Header\n",
    "### H3 Header\n",
    "\n",
    "### 2. Formatting\n",
    "- *Italic text*\n",
    "- **Bold text**\n",
    "- `Code formatting`\n",
    "\n",
    "### 3. Lists\n",
    "1. Ordered item 1\n",
    "2. Ordered item 2\n",
    "   - Unordered sub-item\n",
    "   - Another sub-item\n",
    "\n",
    "### 4. Links and Images\n",
    "- [Czechitas Website](https://www.czechitas.cz/)\n",
    "\n",
    "### 5. Code Blocks\n",
    "```python\n",
    "def hello_world():\n",
    "    print(\"Hello, World!\")\n",
    "```\n",
    "\n",
    "### 6. Tables\n",
    "| Column 1 | Column 2 |\n",
    "|----------|----------|\n",
    "| Cell 1   | Cell 2   |\n",
    "| Cell 3   | Cell 4   |"
   ]
  },
  {
   "cell_type": "markdown",
   "metadata": {},
   "source": [
    "## Practice Exercises 🎯\n",
    "\n",
    "Try these exercises to practice using Jupyter notebooks:\n",
    "\n",
    "1. **Basic Python**\n",
    "   - Create a function that calculates the factorial of a number\n",
    "   - Use a list comprehension to generate first 10 square numbers\n",
    "\n",
    "2. **Data Analysis**\n",
    "   - Create a DataFrame with your own data\n",
    "   - Calculate basic statistics\n",
    "   - Filter the data based on a condition\n",
    "\n",
    "3. **Visualization**\n",
    "   - Create a line plot\n",
    "   - Add title, labels, and legend\n",
    "   - Customize colors and style\n",
    "\n",
    "4. **Markdown**\n",
    "   - Create a section with headers\n",
    "   - Add a table\n",
    "   - Include formatted text and lists"
   ]
  },
  {
   "cell_type": "markdown",
   "metadata": {},
   "source": [
    "## Tips and Best Practices 💡\n",
    "\n",
    "1. **Organization**\n",
    "   - Keep cells small and focused\n",
    "   - Use clear section headers\n",
    "   - Document your code\n",
    "\n",
    "2. **Execution**\n",
    "   - Run cells in order\n",
    "   - Restart kernel and run all to test\n",
    "   - Save frequently\n",
    "\n",
    "3. **Debugging**\n",
    "   - Use print statements\n",
    "   - Check variable types\n",
    "   - Break complex operations into steps\n",
    "\n",
    "4. **Version Control**\n",
    "   - Clear all outputs before committing\n",
    "   - Use .gitignore for checkpoints\n",
    "   - Keep notebook size reasonable"
   ]
  },
  {
   "cell_type": "markdown",
   "metadata": {},
   "source": [
    "## Magic Commands in Jupyter 🪄\n",
    "\n",
    "Jupyter notebooks support special commands called 'magic commands' that start with `%` (line magics) or `%%` (cell magics). These provide additional functionality beyond regular Python:"
   ]
  },
  {
   "cell_type": "code",
   "execution_count": null,
   "metadata": {},
   "outputs": [],
   "source": [
    "# List all available magic commands\n",
    "%lsmagic"
   ]
  },
  {
   "cell_type": "markdown",
   "metadata": {},
   "source": [
    "### Common Line Magic Commands (%)\n",
    "\n",
    "1. Timing execution:"
   ]
  },
  {
   "cell_type": "code",
   "execution_count": null,
   "metadata": {},
   "outputs": [],
   "source": [
    "# Time the execution of a single line\n",
    "%time sum(range(1000000))\n",
    "\n",
    "# Time multiple executions\n",
    "%timeit sum(range(1000))"
   ]
  },
  {
   "cell_type": "markdown",
   "metadata": {},
   "source": [
    "2. System commands:"
   ]
  },
  {
   "cell_type": "code",
   "execution_count": null,
   "metadata": {},
   "outputs": [],
   "source": [
    "# List files in current directory\n",
    "%ls\n",
    "\n",
    "# Show current working directory\n",
    "%pwd"
   ]
  },
  {
   "cell_type": "markdown",
   "metadata": {},
   "source": [
    "3. Environment management:"
   ]
  },
  {
   "cell_type": "code",
   "execution_count": null,
   "metadata": {},
   "outputs": [],
   "source": [
    "# List all variables in namespace\n",
    "%who\n",
    "\n",
    "# More detailed view of variables\n",
    "%whos"
   ]
  },
  {
   "cell_type": "markdown",
   "metadata": {},
   "source": [
    "### Cell Magic Commands (%%)\n",
    "\n",
    "1. Timing entire cells:"
   ]
  },
  {
   "cell_type": "code",
   "execution_count": null,
   "metadata": {},
   "outputs": [],
   "source": [
    "%%time\n",
    "# This will time the execution of the entire cell\n",
    "total = 0\n",
    "for i in range(1000000):\n",
    "    total += i\n",
    "print(f\"Final sum: {total}\")"
   ]
  },
  {
   "cell_type": "markdown",
   "metadata": {},
   "source": [
    "2. Running other languages:"
   ]
  },
  {
   "cell_type": "code",
   "execution_count": null,
   "metadata": {},
   "outputs": [],
   "source": [
    "%%HTML\n",
    "<div style=\"background-color: lightblue; padding: 10px;\">\n",
    "    <h3>This is HTML content!</h3>\n",
    "    <p>You can write HTML directly in a cell.</p>\n",
    "</div>"
   ]
  },
  {
   "cell_type": "code",
   "execution_count": null,
   "metadata": {},
   "outputs": [],
   "source": [
    "%%javascript\n",
    "alert('This is JavaScript running in your notebook!');"
   ]
  },
  {
   "cell_type": "markdown",
   "metadata": {},
   "source": [
    "3. Capturing output:"
   ]
  },
  {
   "cell_type": "code",
   "execution_count": null,
   "metadata": {},
   "outputs": [],
   "source": [
    "%%capture output\n",
    "# This cell's output will be captured and can be used later\n",
    "print(\"This won't be displayed immediately\")\n",
    "print(\"But we can access it later\")\n",
    "\n",
    "# Display the captured output\n",
    "print(\"Captured output:\")\n",
    "print(output.stdout)"
   ]
  },
  {
   "cell_type": "markdown",
   "metadata": {},
   "source": [
    "### Useful Magic Command Tips 💡\n",
    "\n",
    "1. Get help on any magic command:\n",
    "```python\n",
    "%magic           # General help on magic commands\n",
    "%<command>?      # Help on specific command\n",
    "```\n",
    "\n",
    "2. Common combinations:\n",
    "- `%matplotlib inline` - Display plots in the notebook\n",
    "- `%run script.py` - Run external Python scripts\n",
    "- `%load script.py` - Load external file content into a cell\n",
    "\n",
    "3. Debug and profile:\n",
    "- `%debug` - Enter debugger after an exception\n",
    "- `%prun` - Run profiler on code\n",
    "- `%load_ext autoreload` - Auto-reload external Python modules"
   ]
  }
 ],
 "metadata": {
  "kernelspec": {
   "display_name": "Python 3",
   "language": "python",
   "name": "python3"
  },
  "language_info": {
   "codemirror_mode": {
    "name": "ipython",
    "version": 3
   },
   "file_extension": ".py",
   "mimetype": "text/x-python",
   "name": "python",
   "nbconvert_exporter": "python",
   "pygments_lexer": "ipython3",
   "version": "3.8.0"
  }
 },
 "nbformat": 4,
 "nbformat_minor": 4
}
